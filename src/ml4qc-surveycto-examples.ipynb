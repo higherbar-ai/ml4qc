{
 "cells": [
  {
   "cell_type": "markdown",
   "source": [
    "# Using the ml4qc package with SurveyCTO\n",
    "\n",
    "This workbook demonstrates how to use the `ml4dq` Python package to work with [SurveyCTO](https://www.surveycto.com) data."
   ],
   "metadata": {
    "collapsed": false
   }
  }
 ],
 "metadata": {
  "kernelspec": {
   "display_name": "Python 3",
   "language": "python",
   "name": "python3"
  },
  "language_info": {
   "codemirror_mode": {
    "name": "ipython",
    "version": 2
   },
   "file_extension": ".py",
   "mimetype": "text/x-python",
   "name": "python",
   "nbconvert_exporter": "python",
   "pygments_lexer": "ipython2",
   "version": "2.7.6"
  }
 },
 "nbformat": 4,
 "nbformat_minor": 0
}
